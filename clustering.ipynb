{
 "cells": [
  {
   "cell_type": "code",
   "execution_count": 8,
   "metadata": {},
   "outputs": [],
   "source": [
    "from sqlalchemy import create_engine\n",
    "\n",
    "# MySQL connection parameters\n",
    "host= 'localhost'\n",
    "user= 'josh'\n",
    "password= 'go$T4GS'\n",
    "database= 'data_4999'\n",
    "\n",
    "# Create MySQL connection\n",
    "engine = create_engine(f\"mysql+mysqlconnector://{user}:{password}@{host}/{database}\")"
   ]
  },
  {
   "cell_type": "code",
   "execution_count": 9,
   "metadata": {},
   "outputs": [],
   "source": [
    "from sqlalchemy import text\n",
    "import pandas as pd\n",
    "\n",
    "# SQL query to pull desired data for the most recent CostReport data for all Providers\n",
    "query = \"\"\"\n",
    "        SELECT c.prov_id, c.ownership, c.num_beds, c.net_income_from_service_to_patients, c.tot_other_income\n",
    "        FROM CostReports c\n",
    "        JOIN (\n",
    "                SELECT prov_id, MAX(fiscal_end) AS max_fiscal_end\n",
    "                FROM CostReports\n",
    "                GROUP BY prov_id\n",
    "        ) m ON c.prov_id = m.prov_id AND c.fiscal_end = m.max_fiscal_end\n",
    "        \"\"\"\n",
    "\n",
    "# Perform the query using the engine and load the results to a dataframe\n",
    "with engine.connect() as connection:\n",
    "    result = connection.execute(text(query))\n",
    "    df = pd.DataFrame(result.fetchall(), columns=result.keys())\n",
    "    engine.dispose()"
   ]
  },
  {
   "cell_type": "code",
   "execution_count": 10,
   "metadata": {},
   "outputs": [],
   "source": [
    "from sklearn.preprocessing import StandardScaler, OneHotEncoder, PowerTransformer, QuantileTransformer\n",
    "from sklearn.impute import SimpleImputer\n",
    "from sklearn.compose import ColumnTransformer\n",
    "from sklearn.pipeline import Pipeline\n",
    "\n",
    "# Preprocessing\n",
    "categorical_cols = ['ownership']\n",
    "quantitative_cols = ['num_beds', 'net_income_from_service_to_patients', \n",
    "                     'tot_other_income']\n",
    "\n",
    "# Define imputers for different data types\n",
    "imputer_categorical = SimpleImputer(strategy= 'most_frequent')  # Impute with most frequent value for categorical data\n",
    "imputer_quantitative = SimpleImputer(strategy= 'median')  # Impute with median for quantitative data\n",
    "\n",
    "# Define preprocessor\n",
    "preprocessor = ColumnTransformer(\n",
    "    transformers=[\n",
    "        ('cat', Pipeline([\n",
    "            ('imputer_categorical', imputer_categorical),\n",
    "            ('encoder', OneHotEncoder())\n",
    "        ]), categorical_cols),\n",
    "        ('quant', Pipeline([\n",
    "            ('imputer_quantitative', imputer_quantitative),\n",
    "            ('scaler', StandardScaler())\n",
    "        ]), quantitative_cols)\n",
    "    ])"
   ]
  },
  {
   "cell_type": "code",
   "execution_count": 13,
   "metadata": {},
   "outputs": [],
   "source": [
    "from sklearn.pipeline import Pipeline\n",
    "from umap.umap_ import UMAP\n",
    "from sklearn.decomposition import PCA, TruncatedSVD\n",
    "from sklearn.cluster import DBSCAN, KMeans, AgglomerativeClustering\n",
    "from sklearn.preprocessing import FunctionTransformer\n",
    "\n",
    "# Define a function to scale total_assets by 10\n",
    "# scale_total_assets = FunctionTransformer(func=lambda X: X * 2, validate=False)\n",
    "\n",
    "# Clustering pipeline\n",
    "pipeline = Pipeline([\n",
    "    ('preprocessor', preprocessor),\n",
    "    # ('scale_factor_total_assets', scale_total_assets),\n",
    "    ('umap', UMAP(n_components=2)),  # for dimensionality reduction using UMAP\n",
    "    ('clustering', DBSCAN())\n",
    "])\n",
    "\n",
    "# Fit the pipeline\n",
    "pipeline.fit(df.drop(columns=['prov_id']))\n",
    "\n",
    "# Transform data and predict clusters\n",
    "transformed_data = pipeline.named_steps['umap'].transform(pipeline.named_steps['preprocessor'].transform(df.drop(columns=['prov_id'])))\n",
    "clusters = pipeline.named_steps['clustering'].labels_"
   ]
  },
  {
   "cell_type": "code",
   "execution_count": 14,
   "metadata": {},
   "outputs": [
    {
     "name": "stdout",
     "output_type": "stream",
     "text": [
      "Silhouette Score: 0.9403382635127449\n",
      "Davies-Bouldin Index: 1.0316789418360628\n"
     ]
    }
   ],
   "source": [
    "from sklearn.metrics import silhouette_score, davies_bouldin_score\n",
    "\n",
    "# Calculate silhouette score\n",
    "silhouette = silhouette_score(transformed_data, clusters)\n",
    "\n",
    "# Calculate Davies-Bouldin index\n",
    "davies_bouldin = davies_bouldin_score(transformed_data, clusters)\n",
    "\n",
    "# Add cluster labels to the DataFrame\n",
    "df['cluster'] = clusters\n",
    "\n",
    "# Print clustering metrics\n",
    "print(f\"Silhouette Score: {silhouette}\")\n",
    "print(f\"Davies-Bouldin Index: {davies_bouldin}\")"
   ]
  },
  {
   "cell_type": "code",
   "execution_count": 15,
   "metadata": {},
   "outputs": [
    {
     "data": {
      "image/png": "[encoded data removed]",
      "text/plain": [
       "<Figure size 800x600 with 1 Axes>"
      ]
     },
     "metadata": {},
     "output_type": "display_data"
    }
   ],
   "source": [
    "import matplotlib.pyplot as plt\n",
    "\n",
    "# Scatter plot for clustering visualization\n",
    "plt.figure(figsize=(8, 6))\n",
    "for cluster in df['cluster'].unique():\n",
    "    plt.scatter(transformed_data[df['cluster'] == cluster, 0], transformed_data[df['cluster'] == cluster, 1], s= 5)\n",
    "plt.show()"
   ]
  },
  {
   "cell_type": "code",
   "execution_count": 16,
   "metadata": {},
   "outputs": [
    {
     "name": "stdout",
     "output_type": "stream",
     "text": [
      "Empty DataFrame\n",
      "Columns: [prov_id, ownership, num_beds, net_income_from_service_to_patients, tot_other_income, cluster]\n",
      "Index: []\n"
     ]
    }
   ],
   "source": [
    "df2 = df[df['cluster']==1].sort_values(by='tot_other_income', ascending= False).dropna()\n",
    "print(df2)"
   ]
  }
 ],
 "metadata": {
  "kernelspec": {
   "display_name": "Python 3",
   "language": "python",
   "name": "python3"
  },
  "language_info": {
   "codemirror_mode": {
    "name": "ipython",
    "version": 3
   },
   "file_extension": ".py",
   "mimetype": "text/x-python",
   "name": "python",
   "nbconvert_exporter": "python",
   "pygments_lexer": "ipython3",
   "version": "3.10.12"
  }
 },
 "nbformat": 4,
 "nbformat_minor": 2
}
